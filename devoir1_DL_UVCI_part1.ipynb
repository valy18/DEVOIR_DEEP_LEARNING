{
  "cells": [
    {
      "cell_type": "markdown",
      "metadata": {
        "id": "2-lqIVyYHASR"
      },
      "source": [
        "# Devoir de maison n° 1 - Partie 1\n",
        "\n",
        "Le but de ce devoir est de parcourir de façon succinte le cycle complet de développement d'un modèle de deep learning afin de résoudre un problème concret. **La réponse aux questions est obligatoire**. Vous perdrez **beaucoup** de points en les délaissant ! </br></br>\n",
        "\n",
        "Cette 1ère partie consiste à collecter les données et à préparer le jeu de données en relation avec votre problématique.\n",
        "Veuillez à ne pas activer le GPU: `Accelerator: None`\n",
        "\n",
        "\n",
        "Réfléchissez à un problème **spécifique** se rapportant à la classification d’images en différentes catégories. Veuillez y penser dès maintenant. Je vous encourage à observer attentivement autour de vous pour identifier un problème concret où votre solution aura une plus-value !  </br>\n",
        "\n",
        "Rappelons que vous n’êtes pas limité à un problème à deux classes, vous pouvez aller plus loin, 3, 4 ou plus. Libérez votre créativité personnelle, j’insiste sur la personnalisation. Veuillez privilégier le développement de votre propre expertise.</br>\n",
        "\n",
        "Le choix du problème et la formulation de requête pour la collecte des images comptent beaucoup dans votre performance finale. Vous devez fournir des cas différents de ceux vus en cours ! \n",
        "\n",
        "Veillez indiquer le problème à résoudre choisi:</br>\n",
        "**<remplacez-moi par votre réponse>**"
      ]
    },
    {
      "cell_type": "markdown",
      "metadata": {
        "id": "4ltAvep_HASU"
      },
      "source": [
        "###  Installation des librairies"
      ]
    },
    {
      "cell_type": "code",
      "execution_count": null,
      "metadata": {
        "colab": {
          "base_uri": "https://localhost:8080/"
        },
        "id": "mVYMbQ42CIVA",
        "outputId": "ce8cf439-c941-40fd-da0b-1f5ea6bb1623"
      },
      "outputs": [],
      "source": [
        "# Installation des librairies nécessaires\n",
        "\n",
        "!pip install -Uqq fastai\n",
        "!pip install -Uqq fastbook\n",
        "\n",
        "import fastai, fastbook\n",
        "fastai.__version__, fastbook.__version__"
      ]
    },
    {
      "cell_type": "markdown",
      "metadata": {
        "id": "rmxOUtTqHASW"
      },
      "source": [
        "### Importation des librairies"
      ]
    },
    {
      "cell_type": "code",
      "execution_count": null,
      "metadata": {
        "id": "1bRNP3AxHASW"
      },
      "outputs": [],
      "source": [
        "# Code pour importer les modules de vision et fastbook"
      ]
    },
    {
      "cell_type": "markdown",
      "metadata": {
        "id": "Xt5_7KnEHASX"
      },
      "source": [
        "## **I. Collecte d'urls des données**"
      ]
    },
    {
      "cell_type": "markdown",
      "metadata": {
        "id": "HZsLf87dpA8N"
      },
      "source": [
        "\n",
        "\n",
        "## 1. Modifier le code du notebook vu au cours de sorte à collecter 250 url d’images pour chacune des catégories ou classes de votre problème.\n",
        "\n",
        "\n",
        "\n"
      ]
    },
    {
      "cell_type": "code",
      "execution_count": null,
      "metadata": {
        "id": "cYAr55kBHASb"
      },
      "outputs": [],
      "source": [
        "# Ecrivez votre code ici"
      ]
    },
    {
      "cell_type": "markdown",
      "metadata": {},
      "source": [
        "## 2. Diviser la liste d’urls de chaque catégorie en **2 listes disjointes**:\n",
        " une liste de 200 urls et une autre de 50 urls. Utiliser le préfixe 'extra' pour ces listes de 50 urls. Par exemple, pour le notebook du cours on aura: *urls_bagarre, urls_non_bagarre, extra_urls_bagarre, extra_urls_non_bagarre*\n",
        "\n",
        "</br>"
      ]
    },
    {
      "cell_type": "code",
      "execution_count": null,
      "metadata": {},
      "outputs": [],
      "source": [
        "# Ecrivez votre code ici"
      ]
    },
    {
      "cell_type": "code",
      "execution_count": null,
      "metadata": {
        "id": "zDAI_AFWpJCh"
      },
      "outputs": [],
      "source": [
        "# Dé-commentez les lignes de code suivantes, modifiez-les pour réfléter\n",
        "# vos noms utilisés et le nombre de catégorie de votre problème,\n",
        "# et exécutez. Aucune erreur ne doit apparaître sinon\n",
        "# les listes ne sont pas disjointes comme indiqué!\n",
        "\n",
        "# assert(len(set(urls_nom_categorie_1) & set(extra_urls_nom_categorie_1)) == 0)\n",
        "# assert(len(set(urls_nom_categorie_2) & set(extra_urls_nom_categorie_2)) == 0)\n",
        "# assert(len(set(urls_nom_categorie_3) & set(extra_urls_nom_categorie_3)) == 0)\n",
        "# ...."
      ]
    },
    {
      "cell_type": "markdown",
      "metadata": {
        "id": "sEFoYcG_HASc"
      },
      "source": [
        "# II. **Téléchargement et  Visualisation des données**\n",
        "\n",
        "## 1. En vous basant sur le notebook vu en cours, complètez les fonctions\n",
        "`download_images` et `delete_corrupted_images` servant à télécharger les images en respectant leur organisation par dossier et supprimer les images corrompus"
      ]
    },
    {
      "cell_type": "code",
      "execution_count": null,
      "metadata": {},
      "outputs": [],
      "source": [
        "\n",
        "\n",
        "def download_images(root, classes, urls_classes):\n",
        "  \"\"\"Télécharge les images depuis les urls\n",
        "  et les place dans les sous-dossiers de `root`\n",
        "  correspondant aux classes.\n",
        "  Args:\n",
        "      root (Path): dossier racine des données\n",
        "      classes (List): list des classes\n",
        "      urls_classes (List[List]): Liste des urls des images par classe suivant\n",
        "      le même ordre que `classes`\n",
        "  \"\"\"\n",
        "  paths = [root/c for c in classes]\n",
        "  # compléter le code de la fonction\n",
        "  \n",
        "  \n",
        "def delete_corrupted_images(root):\n",
        "  \"\"\"Supprime les fichiers corrompus de `root`.\n",
        "  Args:\n",
        "      root (Path): dossier racine des données\n",
        "  \"\"\"\n",
        "  # compléter le code de la fonction"
      ]
    },
    {
      "cell_type": "markdown",
      "metadata": {
        "id": "mXWdAKgEHASd"
      },
      "source": [
        "## 2. Utiliser ces deux fonctions pour télécharger les images du dossier `train/` et supprimer celles corrompues"
      ]
    },
    {
      "cell_type": "code",
      "execution_count": null,
      "metadata": {},
      "outputs": [],
      "source": [
        "# Renseigner le chemin vers le dossier racine où seront stockés\n",
        "# vos données\n",
        "folder = ...\n",
        "root = Path(folder+'/data/train')\n",
        "\n",
        "# Complétez le code"
      ]
    },
    {
      "cell_type": "markdown",
      "metadata": {},
      "source": [
        "## 3. Même question pour les données `extra`"
      ]
    },
    {
      "cell_type": "code",
      "execution_count": null,
      "metadata": {
        "id": "OWVYrXOBKXJd"
      },
      "outputs": [],
      "source": [
        "root_extra = Path(folder+'/data/extra')\n",
        "# Complétez le code\n"
      ]
    },
    {
      "cell_type": "markdown",
      "metadata": {
        "id": "hpEmnTRFDhan"
      },
      "source": [
        "\n",
        "<!-- **Pour la suite, utilisez uniquement le dossier `train/`**</br> -->\n",
        "\n",
        "## 4. Complétez le code des fonctions `label_function`et `get_dataloader`, puis appelez la fonction `get_dataloader` pour créer un dataloader à partir des données du dossier `train/`, puis en visualisez un lot.\n"
      ]
    },
    {
      "cell_type": "code",
      "execution_count": null,
      "metadata": {},
      "outputs": [],
      "source": [
        "def label_function(x): \n",
        "  \"\"\"Retourne le nom de la classe à partir du nom\n",
        "  complet du fichier.\n",
        "  Args:\n",
        "      x (Path): nom complet du fichier (y compris le chemin)\n",
        "  Returns:\n",
        "      str: nom de la classe\n",
        "  \"\"\"\n",
        "  ...\n",
        "  \n",
        "def get_dataloader(path, bs=50):\n",
        "  \"\"\"Créé un dataloader à partir des images de `path`\n",
        "\n",
        "  Args:\n",
        "      path (Path): chemin du dossier racine des images\n",
        "      bs (int, optional): Taille du lot de données (batch size), par défaut 50.\n",
        "\n",
        "  Returns:\n",
        "      DataLoaders: dataloader contenant les images d'entraînement et\n",
        "      validation avec leurs labels\n",
        "  \"\"\"\n",
        "  fnames = ...\n",
        "  dls = ...\n",
        "  return dls"
      ]
    },
    {
      "cell_type": "code",
      "execution_count": null,
      "metadata": {},
      "outputs": [],
      "source": [
        "dls = ..."
      ]
    },
    {
      "cell_type": "code",
      "execution_count": null,
      "metadata": {},
      "outputs": [],
      "source": [
        "# code pour visualiser un lot"
      ]
    },
    {
      "cell_type": "markdown",
      "metadata": {},
      "source": [
        "# III. **Nettoyage/Correction des données par inspection visuelle**"
      ]
    },
    {
      "cell_type": "markdown",
      "metadata": {},
      "source": [
        "## 1. Créer un objet learn avec le modèle resnet18 et le dataloader `dls` "
      ]
    },
    {
      "cell_type": "code",
      "execution_count": null,
      "metadata": {},
      "outputs": [],
      "source": [
        "\n",
        "learn = ...."
      ]
    },
    {
      "cell_type": "markdown",
      "metadata": {},
      "source": [
        "## 2. Exécuter le code ci-dessous et vous aurez un rendu semblable à cette image.\n",
        "\n",
        "<image src=\"image_cleaner.png\" width=\"400\">\n",
        "\n",
        "\n",
        "Veuillez pour chaque image, sélectionner:\n",
        "- `<keep>` si le label est correct\n",
        "- `<delete>` si l'image est incorrecte ou défectueuse comme un cartoon\n",
        "- une autre valeur si le label courant est incorrect pour affecter cette autre valeur comme nouveau label à l'image\n"
      ]
    },
    {
      "cell_type": "code",
      "execution_count": null,
      "metadata": {},
      "outputs": [],
      "source": [
        "from fastai.vision.widgets import ImageClassifierCleaner \n",
        "\n",
        "train_cleaner = ImageClassifierCleaner(learn, max_n=50)\n",
        "train_cleaner"
      ]
    },
    {
      "cell_type": "markdown",
      "metadata": {},
      "source": [
        "## 3. Après avoir exécuter le code ci-dessous,\n",
        "   Appliquer la fonction `delete_images` à `train_cleaner` pour supprimer les images défectueuses."
      ]
    },
    {
      "cell_type": "code",
      "execution_count": null,
      "metadata": {},
      "outputs": [],
      "source": [
        "import os\n",
        "def delete_images(cleaner):\n",
        "  \"\"\"Supprime les images sélectionnées\n",
        "  pour être supprimées par `cleaner`.\n",
        "\n",
        "  Args:\n",
        "      cleaner (ImageClassifierCleaner): objet cleaner contenant\n",
        "      les données\n",
        "  \"\"\"\n",
        "  for i in cleaner.delete():\n",
        "    im = cleaner.fns[i]\n",
        "    print(f\"Suppression de {im}...\")\n",
        "    os.remove(im)"
      ]
    },
    {
      "cell_type": "code",
      "execution_count": null,
      "metadata": {},
      "outputs": [],
      "source": [
        "# Appliquer la fonction delete_images à train_cleaner"
      ]
    },
    {
      "cell_type": "markdown",
      "metadata": {},
      "source": [
        "# IV. **Nettoyage/Correction des données `extra` par inspection visuelle**\n",
        "\n",
        "Créer un dataloader à partir du dossier `extra`, puis corriger les données par inspection visuelle en suivant la section précédente."
      ]
    },
    {
      "cell_type": "code",
      "execution_count": null,
      "metadata": {},
      "outputs": [],
      "source": [
        "..."
      ]
    },
    {
      "cell_type": "markdown",
      "metadata": {
        "id": "oJz5j3G4-aw_"
      },
      "source": [
        "\n",
        "**Félicitations !**\n",
        "\n",
        "Vous venez d'avoir une vue partielle du travail important, souvent sous-estimé et négligé, de la collecte et de la préparation des données. La réalité est beaucoup plus complexe que cette situation !\n",
        "\n",
        "Vous êtes maintenant prêt pour entraîner vos modèles pour résoudre le problème ciblé.\n",
        "\n",
        "\n"
      ]
    }
  ],
  "metadata": {
    "colab": {
      "provenance": []
    },
    "gpuClass": "standard",
    "kernelspec": {
      "display_name": "Python 3",
      "language": "python",
      "name": "python3"
    },
    "language_info": {
      "codemirror_mode": {
        "name": "ipython",
        "version": 3
      },
      "file_extension": ".py",
      "mimetype": "text/x-python",
      "name": "python",
      "nbconvert_exporter": "python",
      "pygments_lexer": "ipython3",
      "version": "3.7.12"
    }
  },
  "nbformat": 4,
  "nbformat_minor": 0
}
