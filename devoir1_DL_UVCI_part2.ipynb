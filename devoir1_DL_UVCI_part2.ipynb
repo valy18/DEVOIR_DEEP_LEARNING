{
  "cells": [
    {
      "cell_type": "markdown",
      "metadata": {
        "id": "2-lqIVyYHASR"
      },
      "source": [
        "# Devoir de maison n° 1\n",
        "\n",
        "Le but de ce devoir est de parcourir de façon succinte le cycle complet de développement d'un modèle de deep learning afin de résoudre un problème concret. **La réponse aux questions est obligatoire**. Vous perdrez **beaucoup** de points en les délaissant ! </br></br>\n",
        "\n",
        "Cette 2nde partie consiste à entraîner différents modèles et choisir le plus performant. </br>\n",
        "Veuillez à activer le GPU: `Accelerator: P100`\n",
        "\n",
        "Veillez réécrire votre thème ici:</br>\n",
        "\n",
        "**<remplacez-moi par votre réponse>**"
      ]
    },
    {
      "cell_type": "markdown",
      "metadata": {
        "id": "4ltAvep_HASU"
      },
      "source": [
        "###  Installation des librairies"
      ]
    },
    {
      "cell_type": "code",
      "execution_count": null,
      "metadata": {
        "colab": {
          "base_uri": "https://localhost:8080/"
        },
        "id": "mVYMbQ42CIVA",
        "outputId": "ce8cf439-c941-40fd-da0b-1f5ea6bb1623"
      },
      "outputs": [],
      "source": [
        "# Installation des librairies nécessaires\n",
        "\n",
        "!pip install -Uqq  timm # plus grande librairies de modèles de vision (+271!)\n",
        "!pip install -Uqq fastai\n",
        "\n",
        "import timm, fastai\n",
        "fastai.__version__, timm.__version__"
      ]
    },
    {
      "cell_type": "markdown",
      "metadata": {
        "id": "rmxOUtTqHASW"
      },
      "source": [
        "### Importation des librairies"
      ]
    },
    {
      "cell_type": "code",
      "execution_count": null,
      "metadata": {
        "id": "1bRNP3AxHASW"
      },
      "outputs": [],
      "source": [
        "# Code pour importer les modules de vision"
      ]
    },
    {
      "cell_type": "markdown",
      "metadata": {
        "id": "hpEmnTRFDhan"
      },
      "source": [
        "\n",
        "**Pour la suite, utilisez uniquement le dossier `train/`**</br>\n",
        "\n",
        "Créez un dataloader à partir des données du dossier `train/`, puis en visualisez un lot. Pour cela, réutilisez les fonctions que vous avez  définies dans `preprocess.py`."
      ]
    },
    {
      "cell_type": "code",
      "execution_count": null,
      "metadata": {},
      "outputs": [],
      "source": []
    },
    {
      "cell_type": "markdown",
      "metadata": {
        "id": "6Hp3cc0mHASg"
      },
      "source": [
        "# **I. Développement de modèles en réponse au problème**\n",
        "\n",
        "1. Entraîner 4 modèles (`resnet50, resnext50_32x4d, xresnet50, efficientnet_b2`) pendant 5 époques en utilisant la technique de l'apprentissage par transfert vu en cours"
      ]
    },
    {
      "cell_type": "code",
      "execution_count": null,
      "metadata": {
        "id": "lULzz4doOzM9"
      },
      "outputs": [],
      "source": [
        "training_time = {}\n",
        "training_perf = {}"
      ]
    },
    {
      "cell_type": "code",
      "execution_count": null,
      "metadata": {
        "id": "61RReJtFTSQS"
      },
      "outputs": [],
      "source": [
        "# Ecrivez votre code pour entraîner le resnet50\n",
        "# utilisez le nom `learn_r50`"
      ]
    },
    {
      "cell_type": "code",
      "execution_count": null,
      "metadata": {
        "id": "AG5OFWyUN0io"
      },
      "outputs": [],
      "source": [
        "# training_time['resnet50'] =\n",
        "# training_perf['resnet50'] ="
      ]
    },
    {
      "cell_type": "code",
      "execution_count": null,
      "metadata": {
        "id": "aOlKq0VWAQm3"
      },
      "outputs": [],
      "source": [
        "learn_r50.save('m-r50')"
      ]
    },
    {
      "cell_type": "code",
      "execution_count": null,
      "metadata": {
        "id": "mbxlSHK8sxMF"
      },
      "outputs": [],
      "source": [
        "# Ecrivez votre code pour entraîner le resnext50_32x4d\n",
        "# utilisez le nom `learn_rx50`"
      ]
    },
    {
      "cell_type": "code",
      "execution_count": null,
      "metadata": {
        "id": "OCuED3INOOf3"
      },
      "outputs": [],
      "source": [
        "# training_time['resnext50_32x4d'] =\n",
        "# training_perf['resnext50_32x4d'] ="
      ]
    },
    {
      "cell_type": "code",
      "execution_count": null,
      "metadata": {
        "id": "LqGVwEx7N7tu"
      },
      "outputs": [],
      "source": []
    },
    {
      "cell_type": "code",
      "execution_count": null,
      "metadata": {
        "id": "Vb0KYCAuAYlU"
      },
      "outputs": [],
      "source": [
        "learn_rx50.save('m-rx50')"
      ]
    },
    {
      "cell_type": "code",
      "execution_count": null,
      "metadata": {
        "id": "BeCiYtj6sxtb"
      },
      "outputs": [],
      "source": [
        "# Ecrivez votre code pour entraîner le xresnet50\n",
        "# utilisez le nom `learn_xr50`"
      ]
    },
    {
      "cell_type": "code",
      "execution_count": null,
      "metadata": {
        "id": "qQVdrsyIAdy7"
      },
      "outputs": [],
      "source": [
        "learn_xr50.save('m-xr50')"
      ]
    },
    {
      "cell_type": "code",
      "execution_count": null,
      "metadata": {
        "id": "jGoAXTXIObbs"
      },
      "outputs": [],
      "source": [
        "# training_time['learn_xr50'] =\n",
        "# training_perf['learn_xr50'] ="
      ]
    },
    {
      "cell_type": "code",
      "execution_count": null,
      "metadata": {
        "id": "6WG-gO85s7bP"
      },
      "outputs": [],
      "source": [
        "# Ecrivez votre code pour entraîner le efficientnet_b2\n",
        "# utilisez le nom `learn_efnb2`"
      ]
    },
    {
      "cell_type": "code",
      "execution_count": null,
      "metadata": {
        "id": "CCUKB_XOAjD1"
      },
      "outputs": [],
      "source": [
        "learn_efnb2.save('m-efnb2')"
      ]
    },
    {
      "cell_type": "markdown",
      "metadata": {
        "id": "k2B7jKars954"
      },
      "source": [
        "## **II. Analyse des modèles développés**\n",
        "\n",
        "1. Créez une variable `training_time` de type `dictionnaire` ayant pour clés les chaînes de </br>caractères (string) des noms des 5 modèles  et pour valeurs le temps total mis pour l'entraînement (voir colonne 'time' de l'output des entraînements effectués).\n",
        "2. Faites de même pour les performances (`error_rate`) avec une variable `training_perf`."
      ]
    },
    {
      "cell_type": "code",
      "execution_count": null,
      "metadata": {
        "id": "_LJyQGd3HASh"
      },
      "outputs": [],
      "source": [
        "training_time = {}\n",
        "training_perf = {}"
      ]
    },
    {
      "cell_type": "code",
      "execution_count": null,
      "metadata": {
        "id": "j8jtSDY7OBRy"
      },
      "outputs": [],
      "source": [
        "# Code pour remplir chaque dictionnaire comme indiqué\n",
        "# training_time['resnet50'] =\n",
        "# training_perf['resnet50'] =\n",
        "# ....."
      ]
    },
    {
      "cell_type": "markdown",
      "metadata": {
        "id": "nxGOOzzjHASi"
      },
      "source": [
        "- Faites un diagramme à bandes avec la librairie `matplotlib`\n",
        "avec en abscisse les noms des modèles et en ordonnée le temps\n",
        "d'apprentissage ou entraînement\n",
        "\n",
        "- Faites-en de même pour la performance des modèles\n"
      ]
    },
    {
      "cell_type": "code",
      "execution_count": null,
      "metadata": {
        "id": "r3yz9JOOHASi"
      },
      "outputs": [],
      "source": [
        "# Code pour les graphes\n",
        "# En tant que data scientist, il est indispensable\n",
        "# de présenter les résultats sous forme de graphes"
      ]
    },
    {
      "cell_type": "markdown",
      "metadata": {
        "id": "fDZTyvAKHASj"
      },
      "source": [
        "3. Quel est le modèle le plus rapide pour l'entraînement ?</br>\n",
        "\n",
        "`<Remplacez-moi par votre réponse>`\n",
        "</br>\n",
        "\n",
        "4. Quel est le modèle le plus performant ?</br>\n",
        "\n",
        "`<Remplacez-moi par votre réponse>`\n",
        "</br>\n",
        "\n",
        "<!-- 5. Basé sur ces résultats, quel est l'impact du nombre de couches en profondeur </br>sur le temps d'apprentissage ? A partir de votre compréhension du cours,</br> qu'est ce qui selon vous justifie cela ?</br>\n",
        "\n",
        "`<Remplacez-moi par votre réponse>`\n",
        "</br>\n",
        "\n",
        "6. Même questions pour la performance.</br>\n",
        "\n",
        "`<Remplacez-moi par votre réponse>`\n",
        "</br> -->\n",
        "\n"
      ]
    },
    {
      "cell_type": "markdown",
      "metadata": {
        "id": "qF6mp2HB66H3"
      },
      "source": [
        "## **III. Amélioration du modèle le plus performant**\n",
        "\n",
        "Vous allez entraîner davantage le modèle le plus performant jusqu' à la\n",
        "dégradation de la performance."
      ]
    },
    {
      "cell_type": "code",
      "execution_count": null,
      "metadata": {
        "id": "xvqAU6ozJYGg"
      },
      "outputs": [],
      "source": [
        "# Adaptez le code ci-dessous\n",
        "learn_best = ...\n",
        "n_epochs = 50\n",
        "# learn_best.fit_one_cycle(n_epochs)"
      ]
    },
    {
      "cell_type": "code",
      "execution_count": null,
      "metadata": {
        "id": "mNWuF7wlkeFP"
      },
      "outputs": [],
      "source": [
        "# Afficher la courbe d'apprentissage du meilleur modèle"
      ]
    },
    {
      "cell_type": "markdown",
      "metadata": {
        "id": "lrc_bXVushk-"
      },
      "source": [
        "Notez le numéro de l'époque avant laquelle la\n",
        "performance a une tendance globale à se dégrader (augmentation du loss de la validation).</br>\n",
        "Mettre sa valeur dans la variable ci-dessous\n",
        "\n"
      ]
    },
    {
      "cell_type": "code",
      "execution_count": null,
      "metadata": {
        "id": "zBG-8T7N0e3N"
      },
      "outputs": [],
      "source": [
        "n_epoch_best_perf = ..."
      ]
    },
    {
      "cell_type": "markdown",
      "metadata": {
        "id": "B5TpUg5ZKYOJ"
      },
      "source": [
        "## **IV. Evaluation finale**\n",
        "\n",
        "La meilleure version de votre modèle est maintenant prête à l'emploi dans la vie courante pour résoudre le\n",
        "problème pour lequel il a été développé. On parle de déploiement.\n",
        "\n",
        "Nous simulerons ce déploiement en usage réel en\n",
        "le testant sur les données `extra` qui n'ont eu aucun lien avec tout le processus d'apprentissage.\n"
      ]
    },
    {
      "cell_type": "code",
      "execution_count": null,
      "metadata": {
        "id": "gK_tHSkjAwg1"
      },
      "outputs": [],
      "source": [
        "# Collection des fichiers images\n",
        "fnames_extra =  get_image_files(root_extra)\n",
        "# Détermination de leur label\n",
        "labels = [label_function(x) for x in fnames_extra]"
      ]
    },
    {
      "cell_type": "code",
      "execution_count": null,
      "metadata": {
        "id": "KPcV_5z4BGnA"
      },
      "outputs": [],
      "source": [
        "# Ecrire le code pour calculer les prédictions de toutes\n",
        "# les images du dossier `extra` en vous basant sur le notebook\n",
        "# du cours\n",
        "\n",
        "predictions = [...]"
      ]
    },
    {
      "cell_type": "code",
      "execution_count": null,
      "metadata": {
        "id": "Ll5-2V5aBTSH"
      },
      "outputs": [],
      "source": [
        "# Calculer le nombre d'images dont les labels sont égaux\n",
        "# à leurs prédictions puis déduire la pourcentage de prédictions correctes\n",
        "# `accuracy` et le taux d'erreur `error_rate`\n",
        "#....\n",
        "# print(f\"Pourcentage prédictions correctes: {accuracy}\")\n",
        "# print(f\"Taux d'erreurs : {error_rate}\")"
      ]
    },
    {
      "cell_type": "markdown",
      "metadata": {
        "id": "Zdc1X2Gje8rA"
      },
      "source": [
        "Finalement, vous allez entrainer votre modèle sur l'ensemble des données du dossier `'data/train'` sans en mettre de côté pour la validation.\n",
        "Pour cela, vous allez redéfinir le dataloader dls avec le paramètre `valid_pct=1/n` (n est le nombre total d'images téléchargées) ce qui\n",
        "correspond à mettre une seule image dans l'ensemble de validation car fastai nous oblige à en avoir un."
      ]
    },
    {
      "cell_type": "code",
      "execution_count": null,
      "metadata": {
        "id": "fQbLF17l5E2A"
      },
      "outputs": [],
      "source": [
        "vpct = 1/len(fnames)\n",
        "dls = ImageDataLoaders.from_path_func(root, fnames, label_function,\n",
        "                                     valid_pct=vpct, seed=121, bs=64,\n",
        "                                     item_tfms=Resize(224))"
      ]
    },
    {
      "cell_type": "code",
      "execution_count": null,
      "metadata": {
        "id": "_sNAF2rj7iOE"
      },
      "outputs": [],
      "source": [
        "# Ecrire le code pour re-entraîner le modèle\n",
        "# avec le nombre d'époques notée précédemment\n",
        "# Adaptez/Modifiez le code ci-dessous\n",
        "\n",
        "# ....\n",
        "# model.fine_tune(n_epoch_best_perf)"
      ]
    },
    {
      "cell_type": "code",
      "execution_count": null,
      "metadata": {
        "id": "Z03cahRH93B_"
      },
      "outputs": [],
      "source": [
        "# Ecrire le code pour calculer les prédictions\n",
        "# predictions_finales = [....]"
      ]
    },
    {
      "cell_type": "code",
      "execution_count": null,
      "metadata": {
        "id": "gZAHoGoPfXxR"
      },
      "outputs": [],
      "source": [
        "# Calculer le nombre d'images dont les labels sont égaux\n",
        "# à leurs prédictions puis déduire la pourcentage de prédictions correctes\n",
        "# `accuracy_final` et le taux d'erreur `error_rate_final`\n",
        "#....\n",
        "# print(f\"Pourcentage prédictions correctes: {accuracy_final}\")\n",
        "# print(f\"Taux d'erreurs : {error_rate_final}\")"
      ]
    },
    {
      "cell_type": "markdown",
      "metadata": {
        "id": "oJz5j3G4-aw_"
      },
      "source": [
        "Comparez les performances entre ce modèle et le précédent.\n",
        "Quel est le plus performant ?\n",
        "\n",
        "`<Remplacez-moi par votre réponse>`\n",
        "\n",
        "Comparez la performance de ce modèle à la meilleure performance sur\n",
        "l'ensemble de validation de la section III. Quel est le plus performant ?\n",
        "\n",
        "`<Remplacez-moi par votre réponse>`\n",
        "\n",
        "\n",
        "**Félicitations ! Vous venez de parcourir le cycle `basique` de développement d'un modèle prêt à l'emploi ! Il y a encore beaucoup d'autres ingrédients manquants mais le schéma global y est.**\n",
        "\n",
        "\n"
      ]
    }
  ],
  "metadata": {
    "colab": {
      "provenance": []
    },
    "gpuClass": "standard",
    "kernelspec": {
      "display_name": "Python 3",
      "language": "python",
      "name": "python3"
    },
    "language_info": {
      "codemirror_mode": {
        "name": "ipython",
        "version": 3
      },
      "file_extension": ".py",
      "mimetype": "text/x-python",
      "name": "python",
      "nbconvert_exporter": "python",
      "pygments_lexer": "ipython3",
      "version": "3.7.12"
    }
  },
  "nbformat": 4,
  "nbformat_minor": 0
}
